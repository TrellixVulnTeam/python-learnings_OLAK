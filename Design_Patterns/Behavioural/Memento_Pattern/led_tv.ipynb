{
 "cells": [
  {
   "cell_type": "code",
   "execution_count": null,
   "metadata": {
    "collapsed": true
   },
   "outputs": [],
   "source": [
    "import copy\n",
    "\n",
    "\n",
    "class LED_TV:\n",
    "    def __init__(self, size, price, usb_support):\n",
    "        self.size = size\n",
    "        self.price = price\n",
    "        self.usb_support = usb_support\n",
    "\n",
    "    def describe_led_tv(self):\n",
    "        print('The LED TV Config is ==> size: %s , price: %s, usb_support: %s' % (self.size, self.price, self.usb_support))\n",
    "\n",
    "\n",
    "if __name__ == '__main__':\n",
    "    tv_42 = LED_TV(42, 60000, False)\n",
    "    tv_42.describe_led_tv()\n",
    "\n",
    "    tv_46 = LED_TV(46, 80000, True)\n",
    "    tv_46.describe_led_tv()\n",
    "\n",
    "    tv_50 = LED_TV(50, 100000, True)\n",
    "    tv_50.describe_led_tv()\n",
    "\n",
    "    tv_42_deepcopy = copy.deepcopy(tv_42)\n",
    "    tv_42_deepcopy.price = 20000\n",
    "    tv_42.describe_led_tv()\n",
    "    tv_42_deepcopy.describe_led_tv()"
   ]
  }
 ],
 "metadata": {
  "kernelspec": {
   "display_name": "Python 2",
   "language": "python",
   "name": "python2"
  },
  "language_info": {
   "codemirror_mode": {
    "name": "ipython",
    "version": 2
   },
   "file_extension": ".py",
   "mimetype": "text/x-python",
   "name": "python",
   "nbconvert_exporter": "python",
   "pygments_lexer": "ipython2",
   "version": "2.7.6"
  }
 },
 "nbformat": 4,
 "nbformat_minor": 0
}
