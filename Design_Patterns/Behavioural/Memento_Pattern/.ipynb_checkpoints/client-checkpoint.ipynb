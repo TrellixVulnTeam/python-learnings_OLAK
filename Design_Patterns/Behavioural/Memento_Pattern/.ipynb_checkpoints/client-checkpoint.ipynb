{
 "cells": [
  {
   "cell_type": "code",
   "execution_count": null,
   "metadata": {},
   "outputs": [],
   "source": [
    "from Design_Patterns.Behavioural.Memento.led_tv import LED_TV\n",
    "from Design_Patterns.Behavioural.Memento.originator import Originator\n",
    "from Design_Patterns.Behavioural.Memento.care_taker import CareTaker\n",
    "\n",
    "\n",
    "class Client:\n",
    "    def memento_demo(self):\n",
    "        tv_42 = LED_TV(42, 60000, False)\n",
    "\n",
    "        originator = Originator()\n",
    "        originator.set_LED_TV(tv_42)\n",
    "\n",
    "        memento_42 = originator.create_memento()\n",
    "\n",
    "        care_taker = CareTaker()\n",
    "        care_taker.add_to_memento_list(memento_42)\n",
    "\n",
    "        tv_46 = LED_TV(46, 80000, True)\n",
    "        originator.set_LED_TV(tv_46)\n",
    "\n",
    "        memento_46 = originator.create_memento()\n",
    "\n",
    "        care_taker.add_to_memento_list(memento_46)\n",
    "\n",
    "        tv_50 = LED_TV(50, 100000, True)\n",
    "        originator.set_LED_TV(tv_50)\n",
    "\n",
    "        memento_50 = originator.create_memento()\n",
    "        care_taker.add_to_memento_list(memento_50)\n",
    "\n",
    "        tv_42.price = 75000\n",
    "\n",
    "        memento = care_taker.fetch_from_memento_list(0)\n",
    "        led_tv = originator.set_from_memento(memento)\n",
    "        led_tv.describe_led_tv()\n",
    "\n",
    "\n",
    "if __name__ == '__main__':\n",
    "    client = Client()\n",
    "    client.memento_demo()\n"
   ]
  }
 ],
 "metadata": {
  "kernelspec": {
   "display_name": "Python 3",
   "language": "python",
   "name": "python3"
  },
  "language_info": {
   "codemirror_mode": {
    "name": "ipython",
    "version": 3
   },
   "file_extension": ".py",
   "mimetype": "text/x-python",
   "name": "python",
   "nbconvert_exporter": "python",
   "pygments_lexer": "ipython3",
   "version": "3.5.1"
  }
 },
 "nbformat": 4,
 "nbformat_minor": 1
}
