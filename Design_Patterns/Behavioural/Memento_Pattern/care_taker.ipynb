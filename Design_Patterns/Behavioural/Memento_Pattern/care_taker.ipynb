{
 "cells": [
  {
   "cell_type": "code",
   "execution_count": null,
   "metadata": {
    "collapsed": true
   },
   "outputs": [],
   "source": [
    "class CareTaker:\n",
    "    def __init__(self):\n",
    "        self.lst_memento = []\n",
    "\n",
    "    def add_to_memento_list(self, memento):\n",
    "        self.lst_memento.append(memento)\n",
    "        print('The LED_TV state is maintained by care taker')\n",
    "\n",
    "    def fetch_from_memento_list(self, index):\n",
    "        print('The LED TV state is fetched from caretaker for index : %s' % str(index))\n",
    "        return self.lst_memento[index]"
   ]
  }
 ],
 "metadata": {
  "kernelspec": {
   "display_name": "Python 2",
   "language": "python",
   "name": "python2"
  },
  "language_info": {
   "codemirror_mode": {
    "name": "ipython",
    "version": 2
   },
   "file_extension": ".py",
   "mimetype": "text/x-python",
   "name": "python",
   "nbconvert_exporter": "python",
   "pygments_lexer": "ipython2",
   "version": "2.7.6"
  }
 },
 "nbformat": 4,
 "nbformat_minor": 0
}
