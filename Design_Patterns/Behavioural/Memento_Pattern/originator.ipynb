{
 "cells": [
  {
   "cell_type": "code",
   "execution_count": null,
   "metadata": {
    "collapsed": true
   },
   "outputs": [],
   "source": [
    "import copy\n",
    "from Design_Patterns.Behavioural.Memento.memento import Memento\n",
    "\n",
    "class Originator:\n",
    "    def get_LED_TV(self):\n",
    "        return self.LED_TV\n",
    "\n",
    "    def set_LED_TV(self, led_tv):\n",
    "        self.LED_TV = led_tv\n",
    "        self.LED_TV.describe_led_tv()\n",
    "\n",
    "    def create_memento(self):\n",
    "        memento = Memento(copy.deepcopy(self.LED_TV))\n",
    "        return memento\n",
    "\n",
    "    def set_from_memento(self, memento):\n",
    "        self.LED_TV = memento.get_LED_TV_from_memento()\n",
    "        return self.LED_TV"
   ]
  }
 ],
 "metadata": {
  "kernelspec": {
   "display_name": "Python 2",
   "language": "python",
   "name": "python2"
  },
  "language_info": {
   "codemirror_mode": {
    "name": "ipython",
    "version": 2
   },
   "file_extension": ".py",
   "mimetype": "text/x-python",
   "name": "python",
   "nbconvert_exporter": "python",
   "pygments_lexer": "ipython2",
   "version": "2.7.6"
  }
 },
 "nbformat": 4,
 "nbformat_minor": 0
}
