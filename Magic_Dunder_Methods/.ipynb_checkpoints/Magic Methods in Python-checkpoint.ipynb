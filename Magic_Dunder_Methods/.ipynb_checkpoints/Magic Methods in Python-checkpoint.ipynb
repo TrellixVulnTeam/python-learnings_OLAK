{
 "cells": [
  {
   "cell_type": "markdown",
   "metadata": {},
   "source": [
    "<img src=\"alladin.jpeg\" align= \"center\" height=\"70\" width=\"1000\"/>"
   ]
  },
  {
   "cell_type": "markdown",
   "metadata": {},
   "source": [
    "## Agenda\n",
    "\n",
    "1. Introduction to Magic Methods\n",
    "\n",
    "2. Magic Methods involved in:\n",
    "    - Initialization of new Objects\n",
    "    - Object Representation\n",
    "    - Attribute Access\n",
    "    - Enabling Iteration\n",
    "    - Operator Overloading\n",
    "    - Method Invocation\n",
    "    - Context Manager Support\n",
    "    \n",
    "3. Code Examples and their real time Usecases\n",
    "\n",
    "4. How to add Magic to our own Custom Class \n",
    "\n",
    "5. Q & A session\n"
   ]
  },
  {
   "cell_type": "markdown",
   "metadata": {},
   "source": [
    "## Python Data Model and the Magic Methods\n",
    "\n",
    "- len(collection) instead of collection.len() making it 'Pythonic'\n",
    "\n",
    "- What makes them “magic methods” is that they’re invoked somehow “specially”\n",
    "\n",
    "- The Python interpreter invokes special methods to perform basic object operations\n",
    "\n",
    "- What the Python documentation calls the “Python data model,” most authors would say is the “Python object model\n",
    "\n",
    "- The Ruby community calls their equivalent of the Special Methods as Magic Methods. Many in the Python community adopt that term as well\n",
    "\n",
    "- There are far more magic methods in Python than we could ever hope to cover.\n"
   ]
  },
  {
   "cell_type": "markdown",
   "metadata": {},
   "source": [
    "### 1. Initialization of new objects\n",
    "\n",
    "####  Understanding  __new__ method\n",
    "- The magic method __new__ will be called when instance is being created. \n",
    "- Using this method you can customize the instance creation. \n",
    "- This is only the method which will be called first then __init__ will be called to initialize instance.\n",
    "- Method __new__ will take class reference as the first argument followed by arguments which are passed to constructor. \n",
    "- Method __new__ is responsible to create instance, so you can use this method to customize object creation. Typically method __new__ will return the created instance object reference. \n",
    "- Method __init__ will be called once __new__ method completed execution."
   ]
  },
  {
   "cell_type": "code",
   "execution_count": null,
   "metadata": {
    "scrolled": true
   },
   "outputs": [],
   "source": [
    "class Myclass:\n",
    "    def __new__(cls, *args, **kwargs):\n",
    "        print('Creating Instance')        \n",
    "        instance = super().__new__(cls)\n",
    "        print(instance)\n",
    "        return instance\n",
    "        \n",
    " \n",
    "    def __init__(self, a, b):\n",
    "        self.a = a\n",
    "        self.b = b        \n",
    "        \n",
    "    def say_the_magic(self):\n",
    "        print('abracadabra')\n",
    "        print(self.a)\n",
    "        \n",
    "obj = Myclass(2,3)\n",
    "obj.say_the_magic()\n",
    "print(obj)"
   ]
  },
  {
   "cell_type": "markdown",
   "metadata": {},
   "source": [
    "## Things to remember\n",
    "- If __new__ returns instance of  it’s own class, then the __init__ method of newly created instance will be invoked with instance as first (like __init__(self, [, ….]) argument following by arguments passed to __new__ or call of class.  So, __init__ will called implicitly.\n",
    "\n",
    "- If __new__ method return something else other than instance of class,  then instances __init__ method will not be invoked. In this case you have to call __init__ method yourself.\n",
    "\n",
    "- Usually it’s uncommon to override __new__ method, but some times it is required \n",
    "if you are writing APIs or customizing class or instance creation or abstracting something using classes or when subclassing an immutable type like a tuple or a string"
   ]
  },
  {
   "cell_type": "markdown",
   "metadata": {},
   "source": [
    "###  SINGLETON USING __NEW__"
   ]
  },
  {
   "cell_type": "code",
   "execution_count": null,
   "metadata": {},
   "outputs": [],
   "source": [
    "class Singleton():\n",
    "    _instance = None  # Keep instance reference \n",
    "    \n",
    "    def __new__(cls, *args, **kwargs):\n",
    "        if not cls._instance:\n",
    "            cls._instance = object.__new__(cls, *args, **kwargs)\n",
    "        return cls._instance"
   ]
  },
  {
   "cell_type": "code",
   "execution_count": null,
   "metadata": {},
   "outputs": [],
   "source": [
    "obj1 = Singleton()\n",
    "obj2 = Singleton()\n",
    "\n",
    "print(obj1 == obj2)"
   ]
  },
  {
   "cell_type": "markdown",
   "metadata": {},
   "source": [
    "#### It is not limited to singleton. You can also impose limit on total number created instances"
   ]
  },
  {
   "cell_type": "code",
   "execution_count": null,
   "metadata": {},
   "outputs": [],
   "source": [
    "class LimitedInstances(object):\n",
    "    _instances = []  # Keep track of instance reference\n",
    "    limit = 2 \n",
    " \n",
    "    def __new__(cls, *args, **kwargs):\n",
    "        if not len(cls._instances) <= cls.limit:\n",
    "            raise RuntimeError('Count not create instance. Limit {0} reached'.format(cls.limit))    \n",
    "        instance = object.__new__(cls, *args, **kwargs)\n",
    "        cls._instances.append(instance)\n",
    "        return instance\n",
    "    \n",
    "    def __del__(self):\n",
    "        # Remove instance from _instances \n",
    "        self._instance.remove(self)\n",
    "        \n",
    "obj1 = LimitedInstances()\n",
    "obj2 = LimitedInstances()\n",
    "obj3 = LimitedInstances()\n",
    "\n",
    "print(obj1)\n",
    "print(obj3)\n",
    "\n",
    "\n",
    "obj4 = LimitedInstances()"
   ]
  },
  {
   "cell_type": "markdown",
   "metadata": {},
   "source": [
    "#### CUSTOMIZE INSTANCE OBJECT"
   ]
  },
  {
   "cell_type": "code",
   "execution_count": null,
   "metadata": {},
   "outputs": [],
   "source": [
    "def createInstance(val):\n",
    "    # Do what ever you want to determine if instance can be created\n",
    "    if val == 'create':\n",
    "        return True\n",
    "    else:\n",
    "        return False \n",
    " \n",
    "class CustomizeInstance:\n",
    "    \n",
    "    def __new__(cls, val, a, b):\n",
    "        if not createInstance(val):\n",
    "            raise RuntimeError('Condition not Met')\n",
    "        instance = super().__new__(cls)        \n",
    "        return instance\n",
    " \n",
    "    def __init__(self, val, a, b):\n",
    "        pass\n",
    "    \n",
    "# obj = CustomizeInstance('create', 3, 4)    \n",
    "obj = CustomizeInstance('dont_create', 5, 6)"
   ]
  },
  {
   "cell_type": "markdown",
   "metadata": {},
   "source": [
    "## Customize Returned Object"
   ]
  },
  {
   "cell_type": "code",
   "execution_count": null,
   "metadata": {},
   "outputs": [],
   "source": [
    "class Car(object):\n",
    " \n",
    "    def __new__(cls, wheels, torque):\n",
    "        print('Creating an Instance')\n",
    "        instance = super().__new__(cls)\n",
    "        instance.__init__(wheels, torque) ## init is called explicitly. Refer Point 2 in Things to Remember\n",
    "        return 'Baleno'\n",
    " \n",
    "    def __init__(self, wheels, torque):\n",
    "        print('Initializing Instance')\n",
    "        \n",
    "mercedes = Car('alloy_wheels', torque='3')\n",
    "print(mercedes)"
   ]
  },
  {
   "cell_type": "markdown",
   "metadata": {},
   "source": [
    "## Point is a subclass of tuple\n",
    "\n",
    "subclassing an immutable type like a tuple "
   ]
  },
  {
   "cell_type": "code",
   "execution_count": null,
   "metadata": {},
   "outputs": [],
   "source": [
    "class Point(tuple):\n",
    "    def __new__(self, x, y):\n",
    "        return tuple.__new__(Point, (x, y))"
   ]
  },
  {
   "cell_type": "code",
   "execution_count": null,
   "metadata": {},
   "outputs": [],
   "source": [
    "p = Point(1, 2)\n",
    "print(p[0])\n",
    "print(p[1])"
   ]
  },
  {
   "cell_type": "markdown",
   "metadata": {},
   "source": [
    "### Understanding __del__ method"
   ]
  },
  {
   "cell_type": "code",
   "execution_count": null,
   "metadata": {},
   "outputs": [],
   "source": [
    "from os.path import join\n",
    "\n",
    "class FileObject:\n",
    "    '''Wrapper for file objects to make sure the file gets closed on deletion.'''\n",
    "\n",
    "    def __init__(self, filepath='~', filename='sample.txt'):\n",
    "        # open a file filename in filepath in read and write mode\n",
    "        print('Inside init')\n",
    "        self.file = open(join(filepath, filename), 'r+')\n",
    "\n",
    "    def __del__(self):\n",
    "        self.file.close()\n",
    "        del self.file       \n"
   ]
  },
  {
   "cell_type": "markdown",
   "metadata": {},
   "source": [
    "* __del__ is the destructor\n",
    "* It can be quite useful for objects that might require extra cleanup upon deletion, like sockets or file objects\n",
    "* In fact, __del__ should almost never be used because of the precarious circumstances under which it is called"
   ]
  },
  {
   "cell_type": "markdown",
   "metadata": {},
   "source": [
    "## Controlling Attribute Access\n",
    "\n",
    "### Understanding  __getattr__ method\n",
    "- This method will allow you to “catch” references to attributes that don’t exist in your object\n",
    "- BeautifulSoup allows you to use Python's dot syntax to drill down to the part of the HTML document you want. It does this by overriding the __getattr__ magic method."
   ]
  },
  {
   "cell_type": "code",
   "execution_count": null,
   "metadata": {},
   "outputs": [],
   "source": [
    "class Team(object):\n",
    "    def __init__(self):\n",
    "        self.data = {'Sanjay': 'Wallet', 'Shalini': 'Palak Syrup', 'Anusha' : 'EMI'}\n",
    "        \n",
    "    def __getattr__(self, attr):\n",
    "        return self.data[attr]\n",
    "        \n",
    "obj = Team()\n",
    "print(obj.data['Anusha'])\n",
    "print(obj.Sanjay)"
   ]
  },
  {
   "cell_type": "markdown",
   "metadata": {},
   "source": [
    "### Understanding __getitem__  and setitem method"
   ]
  },
  {
   "cell_type": "markdown",
   "metadata": {},
   "source": [
    "- Implementing __getitem__ in a class allows its instances to use the [] (indexer) operators.\n",
    "- The __getitem__ magic method is usually used for list indexing, dictionary lookups, or accessing ranges of values. \n",
    "- Considering how versatile it is, it's probably one of Python's most underutilized magic methods."
   ]
  },
  {
   "cell_type": "code",
   "execution_count": null,
   "metadata": {},
   "outputs": [],
   "source": [
    "class Building(object):\n",
    "     def __init__(self, floors):\n",
    "         self._floors = [None] * floors\n",
    "        \n",
    "     def occupy(self, floor_number, name):\n",
    "          self._floors[floor_number] = name\n",
    "            \n",
    "     def get_floor_data(self, floor_number):\n",
    "          return self._floors[floor_number]\n",
    "\n",
    "prestige = Building(4) \n",
    "prestige.occupy(0, 'Reception')\n",
    "prestige.occupy(1, 'Harman Miller')\n",
    "prestige.occupy(2, 'Planview')\n",
    "print( prestige.get_floor_data(2) )"
   ]
  },
  {
   "cell_type": "code",
   "execution_count": null,
   "metadata": {},
   "outputs": [],
   "source": [
    "class Building(object):\n",
    "     def __init__(self, floors):\n",
    "         self._floors = floors * [None]\n",
    "        \n",
    "     def __setitem__(self, floor_number, name):\n",
    "          self._floors[floor_number] = name\n",
    "            \n",
    "     def __getitem__(self, floor_number):\n",
    "          return self._floors[floor_number]\n",
    "\n",
    "prestige = Building(4) \n",
    "prestige[0] = 'Reception'\n",
    "prestige[1] = 'Harman Miller'\n",
    "prestige[2] = 'Planview'\n",
    "print( prestige[2] )"
   ]
  },
  {
   "cell_type": "markdown",
   "metadata": {},
   "source": [
    "### Context Managers\n",
    "\n",
    "#### Managing Resources\n",
    "\n",
    "- Perhaps the most common (and important) use of context managers is to properly manage resources.\n",
    "- The act of opening a file consumes a resource (called a file descriptor), and this resource is limited by your OS. \n",
    "- That is to say, there are a maximum number of files a process can have open at one time"
   ]
  },
  {
   "cell_type": "code",
   "execution_count": null,
   "metadata": {},
   "outputs": [],
   "source": [
    "# files = []\n",
    "# for x in range(100000):\n",
    "#     files.append(open('foo.txt', 'w'))"
   ]
  },
  {
   "cell_type": "markdown",
   "metadata": {},
   "source": [
    "Traceback (most recent call last):\n",
    "  File \"test.py\", line 3, in <module>\n",
    "OSError: [Errno 24] Too many open files: 'foo.txt'\n",
    "    \n",
    " - If you're on Windows, your computer probably crashed and your motherboard is now on fire. \n",
    " \n",
    " - Don't leak file descriptors!"
   ]
  },
  {
   "cell_type": "code",
   "execution_count": null,
   "metadata": {},
   "outputs": [],
   "source": [
    "# files = []\n",
    "# for x in range(10000):\n",
    "#     f = open('foo.txt', 'w')\n",
    "#     f.close()\n",
    "#     files.append(f)"
   ]
  },
  {
   "cell_type": "code",
   "execution_count": null,
   "metadata": {},
   "outputs": [],
   "source": [
    "with something_that_returns_a_context_manager() as my_resource:\n",
    "    do_something(my_resource)\n",
    "    ...\n",
    "    print('done using my_resource')"
   ]
  },
  {
   "cell_type": "markdown",
   "metadata": {},
   "source": [
    "### Creation of a Context Manager\n",
    "\n",
    "- There are number of ways to create a context manager and the simplest is to define a class that contains two special methods: __enter__() and __exit__().\n",
    "\n",
    "- __enter__() returns the resource to be managed (like a file object in the case of open()).\n",
    "- __exit__() does any cleanup work and returns nothing.\n",
    "- In the below code, even if code in that block raised an exception, the file would still be closed."
   ]
  },
  {
   "cell_type": "code",
   "execution_count": null,
   "metadata": {},
   "outputs": [],
   "source": [
    "class File():\n",
    "\n",
    "    def __init__(self, filename, mode):\n",
    "        self.filename = filename\n",
    "        self.mode = mode\n",
    "\n",
    "    def __enter__(self):\n",
    "        self.open_file = open(self.filename, self.mode)\n",
    "        return self.open_file\n",
    "\n",
    "    def __exit__(self, *args):\n",
    "        self.open_file.close()\n",
    "\n",
    "files = []\n",
    "for _ in range(10000):\n",
    "    with File('avengers.txt', 'w') as infile:\n",
    "        infile.write('foo')\n",
    "        files.append(infile)"
   ]
  },
  {
   "cell_type": "markdown",
   "metadata": {},
   "source": [
    "###  Other Useful Context Managers\n",
    "\n",
    "- Lock objects in threading \n",
    "- zipfile.ZipFiles\n",
    "- subprocess.Popen\n",
    "- tarfile.TarFile\n",
    "- pathlib.Path"
   ]
  },
  {
   "cell_type": "markdown",
   "metadata": {},
   "source": [
    "### contextlib\n",
    "- Context managers are so useful, they have a whole Standard Library module devoted to them! \n",
    "- contextlib contains tools for creating and working with context managers\n",
    "\n",
    "- Everything before the call to yield is considered the code for __enter__(). Everything after is the code for __exit__(). \n",
    "\n",
    "- Let's rewrite our File context manager using the decorator approach:"
   ]
  },
  {
   "cell_type": "code",
   "execution_count": null,
   "metadata": {},
   "outputs": [],
   "source": [
    "from contextlib import contextmanager\n",
    "\n",
    "@contextmanager\n",
    "def open_file(path, mode):\n",
    "    the_file = open(path, mode)\n",
    "    yield the_file\n",
    "    the_file.close()\n",
    "\n",
    "files = []\n",
    "\n",
    "for x in range(100000):\n",
    "    with open_file('foo.txt', 'w') as infile:\n",
    "        files.append(infile)"
   ]
  },
  {
   "cell_type": "markdown",
   "metadata": {},
   "source": [
    "## Creating a custom Class with Magic Methods"
   ]
  },
  {
   "cell_type": "code",
   "execution_count": null,
   "metadata": {},
   "outputs": [],
   "source": [
    "class Account:\n",
    "    \"\"\"A simple account class\"\"\"\n",
    "\n",
    "    def __init__(self, owner, amount=0):     \n",
    "        self.owner = owner\n",
    "        self.amount = amount\n",
    "        self._transactions = []\n",
    "        \n",
    "        \n",
    "    def __repr__(self):\n",
    "        return '{0}({1}, {2})'.format(self.__class__.__name__, self.owner, self.amount)\n",
    "\n",
    "    def __str__(self):\n",
    "        return '{0} of {1} with starting amount: {2}'.format(self.__class__.__name__, self.owner, self.amount)\n",
    "    \n",
    "    def __len__(self):\n",
    "        return len(self._transactions)\n",
    "\n",
    "    def __getitem__(self, position):\n",
    "        return self._transactions[position]\n",
    "    \n",
    "    \n",
    "    @property\n",
    "    def balance(self):\n",
    "        return self.amount + sum(self._transactions)\n",
    "\n",
    "    def add_transaction(self, amount):        \n",
    "        self._transactions.append(amount)\n",
    "        \n",
    "        \n",
    "    # Operator Overloading for Comparing Accounts:\n",
    "\n",
    "    def __eq__(self, other):\n",
    "        return self.balance == other.balance\n",
    "\n",
    "    def __lt__(self, other):\n",
    "        return self.balance < other.balance\n",
    "    \n",
    "    \n",
    "    \n",
    "    # Making the Account class Callable\n",
    "    \n",
    "    def __call__(self):\n",
    "        print('Short Account statement for {}'.format(self.owner))\n",
    "        print('*' * 30)\n",
    "        print('Start amount: {}'.format(self.amount))\n",
    "        print('Transactions: ')\n",
    "        for transaction in self:\n",
    "            print(transaction)\n",
    "        print('\\nBalance: {}'.format(self.balance))\n",
    "        \n",
    "        \n",
    "        \n",
    "    # Adding support for Context Manager\n",
    "    \n",
    "    def __enter__(self):\n",
    "        print('ENTER WITH: Making backup of transactions for rollback')\n",
    "        self._copy_transactions = list(self._transactions)\n",
    "        return self\n",
    "    \n",
    "    \n",
    "    def __exit__(self, exc_type, exc_val, exc_tb):\n",
    "        print('EXIT WITH:', end=' ')\n",
    "        if exc_type:\n",
    "            self._transactions = self._copy_transactions\n",
    "            print('Rolling back to previous transactions')\n",
    "            print('Transaction resulted in {} ({})'.format(exc_type.__name__, exc_val))\n",
    "        else:\n",
    "            print('Transaction OK')\n",
    "        return self\n",
    "            \n",
    "    def validate_transaction(self, amount_to_add):\n",
    "        with self as a:\n",
    "            print('Adding {} to account'.format(amount_to_add))\n",
    "            a.add_transaction(amount_to_add)\n",
    "            print('New balance would be: {}'.format(a.balance))\n",
    "            if a.balance < 0:\n",
    "                raise ValueError('sorry cannot go in debt!')"
   ]
  },
  {
   "cell_type": "code",
   "execution_count": null,
   "metadata": {},
   "outputs": [],
   "source": [
    "obj = Account('Sanjay', 1312)\n",
    "# repr(obj)\n",
    "\n",
    "# str(obj)\n",
    "print(obj)"
   ]
  },
  {
   "cell_type": "markdown",
   "metadata": {},
   "source": [
    "Object Representation: __str__, __repr__\n",
    "- repr__: The “official” string representation of an object.\n",
    "- This is how you would make an object of the class. The goal of __repr__ is to be unambiguous.\n",
    "\n",
    "- __str__: The “informal” or nicely printable string representation of an object.\n",
    " This is for the enduser."
   ]
  },
  {
   "cell_type": "code",
   "execution_count": null,
   "metadata": {},
   "outputs": [],
   "source": [
    "acc = Account('San')\n",
    "acc.add_transaction(20)\n",
    "acc.add_transaction(30)\n",
    "acc.balance"
   ]
  },
  {
   "cell_type": "markdown",
   "metadata": {},
   "source": [
    "   ### Add an ounce of Magic to this Account Class\n",
    "   \n",
    "   * How  many  transactions were there?\n",
    "   * Index the account object to get transaction number\n",
    "   * Loop over the transactions \n",
    "   * Directly perform relational operations on Account class \n",
    "   * Get a nice account statement with an overview of all transactions and the\n",
    "     current balance for an account object\n"
   ]
  },
  {
   "cell_type": "code",
   "execution_count": null,
   "metadata": {},
   "outputs": [],
   "source": [
    "print(len(acc))\n",
    "\n",
    "print(acc[1])\n",
    "\n",
    "\n",
    "for t in acc:\n",
    "    print(t)       "
   ]
  },
  {
   "cell_type": "code",
   "execution_count": null,
   "metadata": {},
   "outputs": [],
   "source": [
    "acc2 = Account('Sree', 100)\n",
    "    \n",
    "acc2 > acc"
   ]
  },
  {
   "cell_type": "code",
   "execution_count": null,
   "metadata": {},
   "outputs": [],
   "source": [
    "acc()"
   ]
  },
  {
   "cell_type": "code",
   "execution_count": null,
   "metadata": {},
   "outputs": [],
   "source": [
    "acc2()"
   ]
  },
  {
   "cell_type": "code",
   "execution_count": null,
   "metadata": {},
   "outputs": [],
   "source": [
    "acc4 = Account('Rajesh', 10)\n",
    "\n",
    "print('\\nBalance start: {}'.format(acc4.balance))\n",
    "acc4.validate_transaction(20)\n",
    "\n",
    "print('\\nBalance end: {}'.format(acc4.balance))"
   ]
  },
  {
   "cell_type": "markdown",
   "metadata": {},
   "source": [
    "__However when I try to withdraw too much money, the code in exit kicks in and rolls back the transaction__"
   ]
  },
  {
   "cell_type": "code",
   "execution_count": null,
   "metadata": {},
   "outputs": [],
   "source": [
    "print('\\nBalance start: {}'.format(acc4.balance))\n",
    "try:\n",
    "    acc4.validate_transaction(-50)\n",
    "except ValueError as exc:\n",
    "    print(exc)\n",
    "    \n",
    "print('\\nBalance end: {}'.format(acc4.balance))"
   ]
  },
  {
   "cell_type": "markdown",
   "metadata": {},
   "source": [
    "Those who dont believe in Magic will never find it  ! ! !                                       \n",
    "                                         \n",
    "              Same Applies to Magic Methods in Python too !!!\n",
    "                                         "
   ]
  },
  {
   "cell_type": "code",
   "execution_count": null,
   "metadata": {},
   "outputs": [],
   "source": [
    "dir(acc)"
   ]
  },
  {
   "cell_type": "markdown",
   "metadata": {},
   "source": [
    "#                     __TEA_TIME__()"
   ]
  },
  {
   "cell_type": "markdown",
   "metadata": {},
   "source": [
    "### References:\n",
    "\n",
    "https://learning.oreilly.com/oriole/fluent-python\n",
    "\n",
    "https://rszalski.github.io/magicmethods/\n",
    "\n",
    "https://dbader.org/blog/python-dunder-methods\n",
    "\n",
    "https://howto.lintel.in/python-__new__-magic-method-explained/\n",
    "\n",
    "http://farmdev.com/src/secrets/magicmethod/index.html#introducing-getattr\n",
    "\n",
    "https://stackoverflow.com/questions/5181320/under-what-circumstances-are-rmul-called\n",
    "\n",
    "https://jeffknupp.com/blog/2016/03/07/python-with-context-managers/"
   ]
  }
 ],
 "metadata": {
  "kernelspec": {
   "display_name": "Python 3",
   "language": "python",
   "name": "python3"
  },
  "language_info": {
   "codemirror_mode": {
    "name": "ipython",
    "version": 3
   },
   "file_extension": ".py",
   "mimetype": "text/x-python",
   "name": "python",
   "nbconvert_exporter": "python",
   "pygments_lexer": "ipython3",
   "version": "3.5.1"
  }
 },
 "nbformat": 4,
 "nbformat_minor": 2
}
